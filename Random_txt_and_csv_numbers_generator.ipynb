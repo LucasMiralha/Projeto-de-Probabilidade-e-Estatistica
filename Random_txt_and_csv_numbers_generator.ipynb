{
  "cells": [
    {
      "cell_type": "code",
      "execution_count": null,
      "metadata": {
        "id": "Sdv93u7kQb2U"
      },
      "outputs": [],
      "source": [
        "import csv\n",
        "\n",
        "# Gerando uma lista de 10000 números inteiros em ordem decrescente\n",
        "numbers = list(range(10000, 0, -1))\n",
        "\n",
        "# Salvando os números em uma única linha em um arquivo CSV\n",
        "with open('numeros2.csv', 'w', newline='') as file:\n",
        "    writer = csv.writer(file)\n",
        "    writer.writerow(numbers)"
      ]
    },
    {
      "cell_type": "code",
      "source": [
        "import random\n",
        "\n",
        "# Gerando uma lista de 5000 números decimais aleatórios com 2 casas decimais\n",
        "numbers = [\"{:.2f}\".format(random.uniform(0, 1)) for _ in range(2500)]\n",
        "\n",
        "# Salvando os números em uma única linha em um arquivo TXT\n",
        "with open('num5k.txt', 'w') as file:\n",
        "    file.write(' '.join(numbers))"
      ],
      "metadata": {
        "id": "aJWzyONyT3Dc"
      },
      "execution_count": null,
      "outputs": []
    },
    {
      "cell_type": "code",
      "source": [
        "import random\n",
        "\n",
        "# Gerando uma lista de 2500 números decimais aleatórios com 2 casas decimais\n",
        "numbers = [\"{:.2f}\".format(random.uniform(0, 1)) for _ in range(2500)]\n",
        "\n",
        "# Salvando os números em uma única linha em um arquivo TXT\n",
        "with open('num1k.txt', 'w') as file:\n",
        "    file.write(' '.join(numbers))"
      ],
      "metadata": {
        "id": "E1y5z7nJT-Al"
      },
      "execution_count": null,
      "outputs": []
    },
    {
      "cell_type": "code",
      "execution_count": null,
      "metadata": {
        "id": "ITP1tvnCQb2V"
      },
      "outputs": [],
      "source": [
        "import random\n",
        "\n",
        "# Gerando uma lista de 1000 números decimais aleatórios com 2 casas decimais\n",
        "numbers = [\"{:.2f}\".format(random.uniform(0, 1)) for _ in range(1000)]\n",
        "\n",
        "# Salvando os números em uma única linha em um arquivo TXT\n",
        "with open('num1k.txt', 'w') as file:\n",
        "    file.write(' '.join(numbers))"
      ]
    },
    {
      "cell_type": "code",
      "execution_count": null,
      "metadata": {
        "id": "6ZbTDIVvQb2W"
      },
      "outputs": [],
      "source": [
        "import random\n",
        "\n",
        "# Gerando uma lista de 10000 números decimais aleatórios com 2 casas decimais\n",
        "numbers = [\"{:.2f}\".format(random.uniform(0, 1)) for _ in range(10000)]\n",
        "\n",
        "# Salvando os números em uma única linha em um arquivo TXT\n",
        "with open('num10k.txt', 'w') as file:\n",
        "    file.write(' '.join(numbers))\n"
      ]
    },
    {
      "cell_type": "code",
      "source": [
        "import random\n",
        "\n",
        "# Gerando uma lista de 100000 números decimais aleatórios com 2 casas decimais\n",
        "numbers = [\"{:.2f}\".format(random.uniform(0, 1)) for _ in range(100000)]\n",
        "\n",
        "# Salvando os números em uma única linha em um arquivo TXT\n",
        "with open('num100k.txt', 'w') as file:\n",
        "    file.write(' '.join(numbers))"
      ],
      "metadata": {
        "id": "QYmNkyTBQjWL"
      },
      "execution_count": null,
      "outputs": []
    },
    {
      "cell_type": "code",
      "source": [
        "import random\n",
        "\n",
        "# Gerando uma lista de 1000000 números decimais aleatórios com 2 casas decimais\n",
        "numbers = [\"{:.2f}\".format(random.uniform(0, 1)) for _ in range(1000000)]\n",
        "\n",
        "# Salvando os números em uma única linha em um arquivo TXT\n",
        "with open('num1kk.txt', 'w') as file:\n",
        "    file.write(' '.join(numbers))"
      ],
      "metadata": {
        "id": "twAhDbPNsaRF"
      },
      "execution_count": null,
      "outputs": []
    }
  ],
  "metadata": {
    "kernelspec": {
      "display_name": "Python 3",
      "language": "python",
      "name": "python3"
    },
    "language_info": {
      "codemirror_mode": {
        "name": "ipython",
        "version": 3
      },
      "file_extension": ".py",
      "mimetype": "text/x-python",
      "name": "python",
      "nbconvert_exporter": "python",
      "pygments_lexer": "ipython3",
      "version": "3.10.7"
    },
    "orig_nbformat": 4,
    "colab": {
      "provenance": []
    }
  },
  "nbformat": 4,
  "nbformat_minor": 0
}